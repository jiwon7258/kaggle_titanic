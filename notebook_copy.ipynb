{
  "nbformat": 4,
  "nbformat_minor": 0,
  "metadata": {
    "language_info": {
      "codemirror_mode": {
        "name": "ipython",
        "version": 3
      },
      "file_extension": ".py",
      "mimetype": "text/x-python",
      "name": "python",
      "nbconvert_exporter": "python",
      "pygments_lexer": "ipython3",
      "version": "3.8.3-final"
    },
    "orig_nbformat": 2,
    "kernelspec": {
      "name": "python3",
      "display_name": "Python 3"
    },
    "colab": {
      "name": "notebook copy.ipynb",
      "provenance": [],
      "collapsed_sections": []
    },
    "accelerator": "GPU"
  },
  "cells": [
    {
      "source": [
        "train_df.columns"
      ],
      "cell_type": "code",
      "metadata": {},
      "execution_count": 4,
      "outputs": [
        {
          "output_type": "execute_result",
          "data": {
            "text/plain": [
              "Index(['PassengerId', 'Survived', 'Pclass', 'Name', 'Sex', 'Age', 'SibSp',\n",
              "       'Parch', 'Ticket', 'Fare', 'Cabin', 'Embarked'],\n",
              "      dtype='object')"
            ]
          },
          "metadata": {},
          "execution_count": 4
        }
      ]
    },
    {
      "cell_type": "code",
      "metadata": {
        "id": "UWPwu5jyGyTy"
      },
      "source": [
        "import numpy as np\n",
        "import pandas as pd\n",
        "from tensorflow import keras\n",
        "from tensorflow.keras import models, layers\n",
        "import matplotlib.pyplot as plt\n",
        "\n",
        "# 데이터를 pandas dataframe으로 불러온다\n",
        "train_df = pd.read_csv(\"train.csv\")\n",
        "test_df = pd.read_csv(\"test.csv\")\n",
        "\n",
        "# print(train.head())\n"
      ],
      "execution_count": 1,
      "outputs": []
    },
    {
      "cell_type": "code",
      "execution_count": 5,
      "metadata": {},
      "outputs": [],
      "source": [
        "# 크게 관련 없는 columns를 삭제한다\n",
        "# Ticket, Fare, Cabin, PasengerId\n",
        "train = train_df.drop([\"Ticket\", \"Fare\", \"Cabin\", \"PassengerId\", \"Name\"], axis=1, )\n",
        "test = test_df.drop([\"Ticket\", \"Fare\", \"Cabin\", \"PassengerId\", \"Name\"], axis=1, )"
      ]
    },
    {
      "cell_type": "code",
      "execution_count": null,
      "metadata": {},
      "outputs": [],
      "source": [
        "# 각 Data에 들어 있는 "
      ]
    },
    {
      "cell_type": "code",
      "metadata": {
        "id": "r9dbJyeuGyT8",
        "outputId": "2de3645f-16f8-4b34-c878-3bf4c2096fe2",
        "colab": {
          "base_uri": "https://localhost:8080/"
        }
      },
      "source": [
        "# NaN값이 들어있는 columns를 확인한다\n",
        "train.isnull().sum(axis=0)"
      ],
      "execution_count": null,
      "outputs": []
    },
    {
      "cell_type": "markdown",
      "metadata": {
        "id": "FD6pQHo7GyUA"
      },
      "source": [
        "* Age값에 Nan값이 꽤 많이 들어 있는 것으로 보인다\n",
        "* 일단은 Train Data의 평균을 이용해서 NaN 값을 채우는 것이 좋아보인다\n",
        "* 데이터의 통일성을 위해 Test Data 또한 Train Data의 Mean 값을 이용해 보간한다."
      ]
    },
    {
      "cell_type": "code",
      "metadata": {
        "id": "a7GHjNI3GyUB"
      },
      "source": [
        "train[\"Age\"].fillna(train[\"Age\"].mean(), inplace=True)\n",
        "test[\"Age\"].fillna(train[\"Age\"].mean(), inplace=True)\n"
      ],
      "execution_count": null,
      "outputs": []
    },
    {
      "cell_type": "code",
      "metadata": {
        "id": "hu4I_1zQGyUE",
        "outputId": "abfb5d83-bb00-4bf9-f929-1ce240a341d4",
        "colab": {
          "base_uri": "https://localhost:8080/"
        }
      },
      "source": [
        "# 각 column별로 값을 확인한다\n",
        "for index in train.columns:\n",
        "    print(train[index].value_counts())\n",
        "    print()"
      ],
      "execution_count": null,
      "outputs": []
    },
    {
      "cell_type": "code",
      "metadata": {
        "id": "GqK7qu28GyUH"
      },
      "source": [
        "# 넘파이배열로 변환\n",
        "train = train.values\n",
        "test = test.values\n",
        "set = [train,test]"
      ],
      "execution_count": null,
      "outputs": []
    },
    {
      "cell_type": "code",
      "metadata": {
        "id": "9PbyABqsGyUK"
      },
      "source": [
        "# male, female 값을 각각 0과 1로 인코딩한다\n",
        "sex_i = 3\n",
        "embark_i = 7\n",
        "for data in set:\n",
        "    sex_i -= 1\n",
        "    embark_i -= 1\n",
        "    for i in range(data.shape[0]):\n",
        "        if data[i,sex_i] == 'male' :\n",
        "            data[i,sex_i] = 0\n",
        "        else :\n",
        "            data[i,sex_i] = 1\n",
        "        if data[i,embark_i] == 'S':\n",
        "            data[i,embark_i] = 0\n",
        "        elif data[i,embark_i] == 'Q':\n",
        "            data[i,embark_i] = 1\n",
        "        else :\n",
        "            data[i,embark_i] = 2"
      ],
      "execution_count": null,
      "outputs": []
    },
    {
      "cell_type": "code",
      "metadata": {
        "id": "dFdrTMFjGyUN"
      },
      "source": [
        "# 데이터 형변환\n",
        "train = train.astype(np.float64)\n",
        "test = test.astype(np.float64)"
      ],
      "execution_count": null,
      "outputs": []
    },
    {
      "cell_type": "markdown",
      "metadata": {
        "id": "LAnSmglnGyUP"
      },
      "source": [
        "한 sample은 총 6개의 feature를 가지고 있다.\n",
        "\n",
        "3개의 Fully Connected Layer를 이용한 신경망을 이용해보자\n"
      ]
    },
    {
      "cell_type": "code",
      "metadata": {
        "id": "ahdWwna8GyUR"
      },
      "source": [
        "# 훈련용 변수와 정답 레이블을 분리한다\n",
        "x_train = train[:,1:]\n",
        "y_train = train[:,0]"
      ],
      "execution_count": null,
      "outputs": []
    },
    {
      "cell_type": "code",
      "metadata": {
        "id": "sgsjAKUtGyUU"
      },
      "source": [
        "# keras모델 설계\n",
        "model = models.Sequential()\n",
        "model.add(layers.Dense(16, activation=\"relu\", input_shape=(6,)))\n",
        "model.add(layers.Dropout(0.3))\n",
        "model.add(layers.Dense(16, activation=\"relu\"))\n",
        "model.add(layers.Dropout(0.3))\n",
        "model.add(layers.Dense(1, activation=\"sigmoid\"))\n",
        "\n",
        "model.compile(optimizer=\"rmsprop\", loss=\"binary_crossentropy\", metrics=[\"binary_accuracy\"])\n",
        "\n"
      ],
      "execution_count": null,
      "outputs": []
    },
    {
      "cell_type": "code",
      "metadata": {
        "id": "dAgQ3NNsJG2S",
        "outputId": "b4b6ed40-1e94-4ced-fbad-424153bc7259",
        "colab": {
          "base_uri": "https://localhost:8080/"
        },
        "tags": [
          "outputPrepend"
        ]
      },
      "source": [
        "history = model.fit(\n",
        "    x_train, y_train, epochs=200, batch_size=20, validation_split=0.2, shuffle = True, verbose=1\n",
        ")\n",
        "\n",
        "history_dict = history.history\n",
        "history_dict.keys()"
      ],
      "execution_count": null,
      "outputs": []
    },
    {
      "cell_type": "code",
      "metadata": {
        "id": "8U1tMdyEGyUX",
        "outputId": "2945c8b1-feac-4a89-a686-be7e2f7ddb2f",
        "colab": {
          "base_uri": "https://localhost:8080/",
          "height": 295
        }
      },
      "source": [
        "acc = history.history['binary_accuracy']\n",
        "val_acc = history.history['val_binary_accuracy']\n",
        "loss = history.history['loss']\n",
        "val_loss = history.history['val_loss']\n",
        "\n",
        "epochs = range(1, len(acc) + 1)\n",
        "\n",
        "# ‘bo’는 파란색 점을 의미합니다\n",
        "plt.plot(epochs, loss, 'bo', label='Training loss')\n",
        "# ‘b’는 파란색 실선을 의미합니다\n",
        "plt.plot(epochs, val_loss, 'b', label='Validation loss')\n",
        "plt.title('Training and validation loss')\n",
        "plt.xlabel('Epochs')\n",
        "plt.ylabel('Loss')\n",
        "plt.legend()\n",
        "\n",
        "plt.show()"
      ],
      "execution_count": null,
      "outputs": []
    },
    {
      "cell_type": "code",
      "metadata": {
        "id": "WVatvGCWGyUZ",
        "outputId": "c363f9cd-27bb-4b32-c14b-7dc8e3973bac",
        "colab": {
          "base_uri": "https://localhost:8080/",
          "height": 295
        }
      },
      "source": [
        "plt.clf()   # 그래프를 초기화합니다\n",
        "acc = history_dict['binary_accuracy']\n",
        "val_acc = history_dict['val_binary_accuracy']\n",
        "\n",
        "plt.plot(epochs, acc, 'bo', label='Training acc')\n",
        "plt.plot(epochs, val_acc, 'b', label='Validation acc')\n",
        "plt.title('Training and validation accuracy')\n",
        "plt.xlabel('Epochs')\n",
        "plt.ylabel('Accuracy')\n",
        "plt.legend()\n",
        "\n",
        "plt.show()"
      ],
      "execution_count": null,
      "outputs": []
    },
    {
      "cell_type": "code",
      "metadata": {
        "id": "RUQ0tvr4bSxg",
        "outputId": "0084afab-96b0-4d20-aa1e-1c29ec8d55f5",
        "colab": {
          "base_uri": "https://localhost:8080/"
        }
      },
      "source": [
        "result = model.predict(test)\n",
        "result = result.reshape(418)\n",
        "# result.shape\n",
        "\n"
      ],
      "execution_count": 28,
      "outputs": [
        {
          "output_type": "execute_result",
          "data": {
            "text/plain": [
              "(418,)"
            ]
          },
          "metadata": {},
          "execution_count": 28
        }
      ]
    },
    {
      "cell_type": "code",
      "metadata": {
        "id": "sV-3SkGV22Lp",
        "outputId": "896f52c4-8c5d-4ae1-c5ec-5bcfbb121d63",
        "colab": {
          "base_uri": "https://localhost:8080/",
          "height": 844
        }
      },
      "source": [
        "my_submission = pd.DataFrame({'PassengerId': test_df.PassengerId, 'Survived': result})\n",
        "my_submission.to_csv('submission.csv', index=False)"
      ],
      "execution_count": 30,
      "outputs": []
    },
    {
      "cell_type": "code",
      "execution_count": null,
      "metadata": {},
      "outputs": [],
      "source": []
    }
  ]
}